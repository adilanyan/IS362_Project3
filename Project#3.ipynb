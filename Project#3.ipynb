{
 "cells": [
  {
   "cell_type": "code",
   "execution_count": null,
   "metadata": {},
   "outputs": [],
   "source": [
    "import pandas as pd\n",
    "import sqlalchemy as sqla\n",
    "\n",
    "sql = '''\n",
    "    SELECT\n",
    "        t1.LastName,\n",
    "        t1.FirstName, \n",
    "        t4.Name,\n",
    "        t5.Title\n",
    "    FROM customer t1\n",
    "    LEFT JOIN invoice t2 \n",
    "        ON t1.CustomerId = t2.CustomerId\n",
    "    LEFT JOIN invoiceline t3\n",
    "        ON t2.InvoiceId = t3.InvoiceId\n",
    "    LEFT JOIN track t4\n",
    "        ON t3.TrackId = t4.TrackId\n",
    "    LEFT JOIN album t5\n",
    "        ON t4.AlbumId = t5.AlbumId\n",
    "    ORDER BY t1.LastName, t1.FirstName;'''\n",
    "\n",
    "db = sqla.create_engine('sqlite:///data/Chinook_Sqlite.sqlite')\n",
    "\n",
    "df = pd.read_sql(sql, db)\n",
    "\n",
    "df.head()"
   ]
  }
 ],
 "metadata": {
  "kernelspec": {
   "display_name": "Python 3",
   "language": "python",
   "name": "python3"
  },
  "language_info": {
   "codemirror_mode": {
    "name": "ipython",
    "version": 3
   },
   "file_extension": ".py",
   "mimetype": "text/x-python",
   "name": "python",
   "nbconvert_exporter": "python",
   "pygments_lexer": "ipython3",
   "version": "3.8.3"
  }
 },
 "nbformat": 4,
 "nbformat_minor": 4
}
